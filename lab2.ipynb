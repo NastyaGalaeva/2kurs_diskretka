{
 "cells": [
  {
   "cell_type": "code",
   "execution_count": 1,
   "metadata": {},
   "outputs": [],
   "source": [
    "from math import cos"
   ]
  },
  {
   "cell_type": "markdown",
   "metadata": {},
   "source": [
    "f - подынтегральная функция\n",
    "a, b - пределы интегрирования\n",
    "n - количество частичных отрезков"
   ]
  },
  {
   "cell_type": "markdown",
   "metadata": {},
   "source": [
    "Функция вычисления интегралла по формуле прямоугольников:"
   ]
  },
  {
   "cell_type": "code",
   "execution_count": 2,
   "metadata": {},
   "outputs": [],
   "source": [
    "def rectangular(f, a, b, n):\n",
    "    h = float(b - a)/n\n",
    "    result = f(a+0.5*h)\n",
    "    for i in range(1, n):\n",
    "        result += f(a + 0.5*h + i*h)\n",
    "    result *= h\n",
    "    return result"
   ]
  },
  {
   "cell_type": "markdown",
   "metadata": {},
   "source": [
    "Функция вычисления интегралла по формуле трапеций:\t"
   ]
  },
  {
   "cell_type": "code",
   "execution_count": 3,
   "metadata": {},
   "outputs": [],
   "source": [
    "def trapezoidal(f, a, b, n):\n",
    "    h = float(b - a)/n\n",
    "    result = 0.5*(f(a) + f(b))\n",
    "    for i in range(1, n):\n",
    "        result += f(a + i*h)\n",
    "    result *= h\n",
    "    return result"
   ]
  },
  {
   "cell_type": "markdown",
   "metadata": {},
   "source": [
    "Функция вычисления интегралла по формуле Симпсона:"
   ]
  },
  {
   "cell_type": "code",
   "execution_count": 4,
   "metadata": {},
   "outputs": [],
   "source": [
    "def simpson(f, a, b, n):\n",
    "    h = (b - a) / float(n)\n",
    "    sum1 = 0\n",
    "    \n",
    "    for i in range(2, n, 2):\n",
    "        xi = a + h * i\n",
    "        sum1 += f(xi)\n",
    "    \n",
    "    sum1 *= 4\n",
    "    sum2 = 0\n",
    "    \n",
    "    for i in range(1, n, 2): \n",
    "        xi = a + h * i \n",
    "        sum2 += f(xi)\n",
    "    \n",
    "    sum2 *= 2\n",
    "    result = h / 3.0 * (f(a) + f(b) + sum1 + sum2)\n",
    "    \n",
    "    return result"
   ]
  },
  {
   "cell_type": "markdown",
   "metadata": {},
   "source": [
    "Задаем саму функцию, для которой будем вычислять определенный интеграл:"
   ]
  },
  {
   "cell_type": "code",
   "execution_count": 5,
   "metadata": {},
   "outputs": [],
   "source": [
    "def f(x):\n",
    "    return cos(x)/(x+1)"
   ]
  },
  {
   "cell_type": "markdown",
   "metadata": {},
   "source": [
    "Вычисляем приближенное значение интеграла с помощью формулы прямоугольников:"
   ]
  },
  {
   "cell_type": "code",
   "execution_count": 21,
   "metadata": {},
   "outputs": [
    {
     "name": "stdout",
     "output_type": "stream",
     "text": [
      "Интеграл функции  с помощью формулы прямоугольников и ошибка: \n",
      "n=3:   approx=0.22157083079834153,   error=0.0007291692016584694\n",
      "n=9:   approx=0.22218845000421475,   error=0.00011154999578524838\n",
      "n=27:   approx=0.22225725177711073,   error=4.2748222889271714e-05\n",
      "n=81:   approx=0.2222648986571023,   error=3.510134289769207e-05\n",
      "n=243:   approx=0.22226574833813934,   error=3.425166186066253e-05\n"
     ]
    }
   ],
   "source": [
    "print('Интеграл функции  с помощью формулы прямоугольников и ошибка: ')\n",
    "\n",
    "for n in 3,9,27,81,243:\n",
    "    result = rectangular(f, 0.6, 1.4, n)\n",
    "    print('n={0}:   approx={1},   error={2}'.format(n, result, 0.2223 - result))"
   ]
  },
  {
   "cell_type": "markdown",
   "metadata": {},
   "source": [
    "Вычисляем приближенное значение интеграла с помощью формулы трапеций:"
   ]
  },
  {
   "cell_type": "code",
   "execution_count": 22,
   "metadata": {},
   "outputs": [
    {
     "name": "stdout",
     "output_type": "stream",
     "text": [
      "Интеграл функции  с помощью формулы трапеций и ошибка: \n",
      "n=3:   approx=0.22365746084176452,   error=-0.001357460841764524\n",
      "n=9:   approx=0.2224206833076143,   error=-0.00012068330761430546\n",
      "n=27:   approx=0.22228306033519707,   error=1.6939664802928522e-05\n",
      "n=81:   approx=0.22226776633477807,   error=3.223366522192572e-05\n",
      "n=243:   approx=0.22226606696973447,   error=3.3933030265526076e-05\n"
     ]
    }
   ],
   "source": [
    "print('Интеграл функции  с помощью формулы трапеций и ошибка: ')\n",
    "\n",
    "for n in 3,9,27,81,243:\n",
    "    result = trapezoidal (f, 0.6, 1.4, n)\n",
    "    print('n={0}:   approx={1},   error={2}'.format(n, result, 0.2223 - result))"
   ]
  },
  {
   "cell_type": "markdown",
   "metadata": {},
   "source": [
    "Вычисляем приближенное значение интеграла с помощью формулы Симпсона:"
   ]
  },
  {
   "cell_type": "code",
   "execution_count": 20,
   "metadata": {},
   "outputs": [
    {
     "name": "stdout",
     "output_type": "stream",
     "text": [
      "Интеграл функции  с помощью формулы Симпсона и ошибка: \n",
      "n=3:   approx=0.1844085352182551,   error=0.04559146478174492\n",
      "n=9:   approx=0.20787102238447477,   error=0.022128977615525236\n",
      "n=27:   approx=0.21726999782334022,   error=0.012730002176659788\n",
      "n=81:   approx=0.22057861188621783,   error=0.009421388113782181\n",
      "n=243:   approx=0.22170100060359738,   error=0.008298999396402634\n"
     ]
    }
   ],
   "source": [
    "print('Интеграл функции  с помощью формулы Симпсона и ошибка: ')\n",
    "\n",
    "for n in 3,9,27,81,243:\n",
    "    result = simpson(f, 0.6, 1.4, n)\n",
    "    print('n={0}:   approx={1},   error={2}'.format(n, result, 0.2223 - result))"
   ]
  },
  {
   "cell_type": "code",
   "execution_count": null,
   "metadata": {},
   "outputs": [],
   "source": []
  }
 ],
 "metadata": {
  "kernelspec": {
   "display_name": "Python 3",
   "language": "python",
   "name": "python3"
  },
  "language_info": {
   "codemirror_mode": {
    "name": "ipython",
    "version": 3
   },
   "file_extension": ".py",
   "mimetype": "text/x-python",
   "name": "python",
   "nbconvert_exporter": "python",
   "pygments_lexer": "ipython3",
   "version": "3.6.4"
  }
 },
 "nbformat": 4,
 "nbformat_minor": 2
}
