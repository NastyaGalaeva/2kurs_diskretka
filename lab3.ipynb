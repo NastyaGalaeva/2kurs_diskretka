{
 "cells": [
  {
   "cell_type": "markdown",
   "metadata": {},
   "source": [
    "# Решение нелинейных алгебраических уравнений"
   ]
  },
  {
   "cell_type": "code",
   "execution_count": 48,
   "metadata": {},
   "outputs": [],
   "source": [
    "import sys\n",
    "import numpy as np\n",
    "%matplotlib inline\n",
    "from matplotlib import pyplot as plt"
   ]
  },
  {
   "cell_type": "markdown",
   "metadata": {},
   "source": [
    "Зададим функцию"
   ]
  },
  {
   "cell_type": "code",
   "execution_count": 70,
   "metadata": {},
   "outputs": [],
   "source": [
    "def f(x):\n",
    "    y = 3*(x**2) - x - np.sin(x)\n",
    "    return y    "
   ]
  },
  {
   "cell_type": "code",
   "execution_count": 71,
   "metadata": {},
   "outputs": [],
   "source": [
    "def df(x):\n",
    "    y = -1 - np.cos(x) + 6*x\n",
    "    return y"
   ]
  },
  {
   "cell_type": "code",
   "execution_count": 72,
   "metadata": {},
   "outputs": [],
   "source": [
    "a = 0\n",
    "b = 2\n",
    "n = 1001"
   ]
  },
  {
   "cell_type": "markdown",
   "metadata": {},
   "source": [
    "# Метод грубой силы"
   ]
  },
  {
   "cell_type": "markdown",
   "metadata": {},
   "source": [
    "Алгоритм грубой силы должен проходить через все точки кривой и проверьте, находится ли одна точка ниже оси x, и если следующая точка выше ось x или наоборот. Если это будет так, мы получим, что значение f(x) должно быть равным нулю между этими двумя точками x."
   ]
  },
  {
   "cell_type": "code",
   "execution_count": 73,
   "metadata": {},
   "outputs": [],
   "source": [
    "def brute_force_root_finder(f, a, b, n):    \n",
    "    x = np.linspace(a, b, n)\n",
    "    y = f(x)\n",
    "    \n",
    "    roots = []\n",
    "\n",
    "    for i in range(n-1):\n",
    "        if y[i] * y[i+1] < 0:\n",
    "            root = x[i] - (x[i+1] - x[i]) / (y[i+1] - y[i]) * y[i]\n",
    "            roots.append(root)\n",
    "\n",
    "    return np.array(roots)"
   ]
  },
  {
   "cell_type": "code",
   "execution_count": 74,
   "metadata": {},
   "outputs": [
    {
     "name": "stdout",
     "output_type": "stream",
     "text": [
      "[0.64409225]\n"
     ]
    }
   ],
   "source": [
    "roots = brute_force_root_finder(f, a, b, n)\n",
    "print(roots)"
   ]
  },
  {
   "cell_type": "code",
   "execution_count": 75,
   "metadata": {},
   "outputs": [
    {
     "data": {
      "image/png": "[encoded data removed]",
      "text/plain": [
       "<matplotlib.figure.Figure at 0x98d7255588>"
      ]
     },
     "metadata": {},
     "output_type": "display_data"
    }
   ],
   "source": [
    "x = np.linspace(a, b, n)\n",
    "y = f(x)\n",
    "\n",
    "y0 = f(roots)\n",
    "\n",
    "plt.plot(x, y, '-k', roots, y0, 'ob')\n",
    "\n",
    "plt.grid(True)\n",
    "plt.show()"
   ]
  },
  {
   "cell_type": "code",
   "execution_count": 87,
   "metadata": {},
   "outputs": [
    {
     "name": "stdout",
     "output_type": "stream",
     "text": [
      "минимумы:  [0.4]\n",
      "максимумы:  [-200.]\n"
     ]
    },
    {
     "data": {
      "image/png": "[encoded data removed]",
      "text/plain": [
       "<matplotlib.figure.Figure at 0x98d7031550>"
      ]
     },
     "metadata": {},
     "output_type": "display_data"
    }
   ],
   "source": [
    "def brute_force_optimizer(f, a, b, n):\n",
    "    x = np.linspace(a, b, n)\n",
    "    y = f(x)\n",
    "    \n",
    "    # поиск локальных экстремумов\n",
    "    minima = []\n",
    "    maxima = []\n",
    "\n",
    "    for i in range(n-1):\n",
    "        if y[i-1] < y[i] > y[i+1]:\n",
    "            maxima.append(i)\n",
    "        \n",
    "        if y[i-1] > y[i] < y[i+1]:\n",
    "            minima.append(i)\n",
    "        \n",
    "    # найдем глобальный максимум и минимум на интервале (a,b)    \n",
    "    y_max_inner = max([y[i] for i in maxima])\n",
    "    y_min_inner = min([y[i] for i in minima])\n",
    "\n",
    "    # сравним со значениями функции на границах отрезка [a,b]\n",
    "    \n",
    "    if y[0] > y_max_inner:\n",
    "        maxima.append(0)\n",
    "\n",
    "    if y[len(x)-1] > y_max_inner:\n",
    "        maxima.append(len(x)-1)\n",
    "\n",
    "    if y[0] < y_min_inner:\n",
    "        minima.append(0)\n",
    "\n",
    "    if y[len(x)-1] < y_min_inner:\n",
    "        minima.append(len(x)-1)\n",
    "\n",
    "    x_min = [x[i] for i in minima]\n",
    "    x_max = [x[i] for i in maxima]\n",
    "    \n",
    "    return np.array(x_min), np.array(x_max)\n",
    "\n",
    "\n",
    "x_min, x_max = brute_force_optimizer(f, -200, 200, n)\n",
    "print('минимумы: ', x_min)\n",
    "print('максимумы: ', x_max)\n",
    "\n",
    "x = np.linspace(-200, 200, n)\n",
    "y = f(x)\n",
    "\n",
    "y_min = f(x_min)\n",
    "y_max = f(x_max)\n",
    "\n",
    "plt.plot(x, y, '-k', x_min, y_min, 'ob', x_max, y_max, 'or')\n",
    "\n",
    "plt.grid(True)\n",
    "plt.show()"
   ]
  },
  {
   "cell_type": "markdown",
   "metadata": {},
   "source": [
    "# Метод Ньютона"
   ]
  },
  {
   "cell_type": "markdown",
   "metadata": {},
   "source": [
    "Основная идея метода Ньютона состоит в том, чтобы аппроксимировать исходную функцию f(x) прямой линией, т.е. заменить линейной функцией, так как легко решить линейное уравнение.\n",
    "Метод Ньютона, в качестве линейной функции выбирает касательную к f(x)."
   ]
  },
  {
   "cell_type": "code",
   "execution_count": 57,
   "metadata": {},
   "outputs": [],
   "source": [
    "def newton(f, df, x, eps, max_iterations=100):\n",
    "    f_value = f(x)\n",
    "    iteration_counter = 0\n",
    "\n",
    "    while abs(f_value) > eps and iteration_counter < max_iterations:\n",
    "        try:\n",
    "            x = x - float(f_value) / df(x)\n",
    "        except ZeroDivisionError:\n",
    "            print('Error! - derivative zero for x = ', x) # не обращалась в ноль\n",
    "            sys.exit(1)\n",
    "\n",
    "        f_value = f(x)\n",
    "        iteration_counter += 1 # счетчик итерации, чтобы не было больше 100        \n",
    "    return x"
   ]
  },
  {
   "cell_type": "code",
   "execution_count": 58,
   "metadata": {},
   "outputs": [
    {
     "name": "stdout",
     "output_type": "stream",
     "text": [
      "0.6440925937482385\n"
     ]
    }
   ],
   "source": [
    "root = newton(f, df, 1.0, 1.0e-6, 100)\n",
    "print(root)"
   ]
  },
  {
   "cell_type": "code",
   "execution_count": 59,
   "metadata": {},
   "outputs": [
    {
     "data": {
      "image/png": "[encoded data removed]",
      "text/plain": [
       "<matplotlib.figure.Figure at 0x98d6ec9588>"
      ]
     },
     "metadata": {},
     "output_type": "display_data"
    }
   ],
   "source": [
    "x = np.linspace(a, b, n)\n",
    "y = f(x)\n",
    "\n",
    "plt.plot(x, y, '-k', root, f(root), 'ob')\n",
    "\n",
    "plt.grid(True)\n",
    "plt.show()"
   ]
  },
  {
   "cell_type": "markdown",
   "metadata": {},
   "source": [
    "# Метод секущих "
   ]
  },
  {
   "cell_type": "markdown",
   "metadata": {},
   "source": [
    "Идея секулярного метода состоит в том, чтобы думать, как в методе Ньютона, но вместо того,\n",
    "чтобы использовать f'(xn), мы аппроксимируем эту производную секущей."
   ]
  },
  {
   "cell_type": "code",
   "execution_count": 60,
   "metadata": {},
   "outputs": [],
   "source": [
    "def secant(f, x0, x1, eps, max_iterations=100):\n",
    "    f_x0 = f(x0)\n",
    "    f_x1 = f(x1)\n",
    "    \n",
    "    iteration_counter = 0\n",
    "\n",
    "    while abs(f_x1) > eps and iteration_counter < max_iterations:\n",
    "        try:\n",
    "            denominator = float(f_x1 - f_x0) / (x1 - x0)\n",
    "            x = x1 - float(f_x1) / denominator\n",
    "        except ZeroDivisionError:\n",
    "            print('Error! - denominator zero for x = ', x)\n",
    "            sys.exit(1)\n",
    "        \n",
    "        x0 = x1\n",
    "        x1 = x\n",
    "\n",
    "        f_x0 = f_x1\n",
    "        f_x1 = f(x1)\n",
    "\n",
    "        iteration_counter += 1\n",
    "\n",
    "    return x"
   ]
  },
  {
   "cell_type": "code",
   "execution_count": 61,
   "metadata": {},
   "outputs": [
    {
     "name": "stdout",
     "output_type": "stream",
     "text": [
      "0.6440925329392885\n"
     ]
    }
   ],
   "source": [
    "x0 = 1000\n",
    "x1 = x0 - 1\n",
    "\n",
    "root= secant(f, x0, x1, eps=1.0e-6)\n",
    "print(root)"
   ]
  },
  {
   "cell_type": "code",
   "execution_count": 62,
   "metadata": {},
   "outputs": [
    {
     "data": {
      "image/png": "[encoded data removed]",
      "text/plain": [
       "<matplotlib.figure.Figure at 0x98d6fdf240>"
      ]
     },
     "metadata": {},
     "output_type": "display_data"
    }
   ],
   "source": [
    "x = np.linspace(a, b, 1000)\n",
    "y = f(x)\n",
    "\n",
    "plt.plot(x, y, '-k', root, f(root), 'ob')\n",
    "\n",
    "plt.grid(True)\n",
    "plt.show()"
   ]
  },
  {
   "cell_type": "markdown",
   "metadata": {},
   "source": [
    "# Метод бисекции"
   ]
  },
  {
   "cell_type": "markdown",
   "metadata": {},
   "source": [
    "Идея метода заключается во первых, что рассматривается непрерывная функция на интервале и значения функции на концах интервала имеет противоположные знаки. Во вторых - ключевая идея -это разделение интервала на два равных интервала, один слева и один справа от середины интервала. Оценив знак в серединной точке, мы узнаем сразу решение должно существовать слева или справа от середины интервала или мы уже нашли корень (если значение функции обратилось в ноль)."
   ]
  },
  {
   "cell_type": "code",
   "execution_count": 63,
   "metadata": {},
   "outputs": [],
   "source": [
    "def bisection(f, x_L, x_R, eps):\n",
    "    f_L = f(x_L)\n",
    "\n",
    "    if f_L * f(x_R) > 0:\n",
    "        print('Функция на концах интервала одного знака')\n",
    "        sys.exit(1)\n",
    "\n",
    "    x_M = float(x_L + x_R)/2.0\n",
    "    f_M = f(x_M)\n",
    "\n",
    "    while abs(f_M) > eps:\n",
    "        if f_L * f_M > 0:\n",
    "            x_L = x_M\n",
    "            f_L = f_M\n",
    "        else:\n",
    "            x_R = x_M\n",
    "        \n",
    "        x_M = float(x_L + x_R) / 2\n",
    "        f_M = f(x_M)\n",
    "    \n",
    "    return x_M"
   ]
  },
  {
   "cell_type": "code",
   "execution_count": 66,
   "metadata": {},
   "outputs": [
    {
     "name": "stdout",
     "output_type": "stream",
     "text": [
      "4.6566128730773926e-07\n"
     ]
    }
   ],
   "source": [
    "root= bisection(f, 0, 1000, eps=1.0e-6)\n",
    "print(root)"
   ]
  },
  {
   "cell_type": "code",
   "execution_count": 67,
   "metadata": {},
   "outputs": [
    {
     "data": {
      "image/png": "[encoded data removed]",
      "text/plain": [
       "<matplotlib.figure.Figure at 0x98d7141a90>"
      ]
     },
     "metadata": {},
     "output_type": "display_data"
    }
   ],
   "source": [
    "x = np.linspace(a, b, 1000)\n",
    "y = f(x)\n",
    "\n",
    "plt.plot(x, y, '-k', root, f(root), 'ob')\n",
    "\n",
    "plt.grid(True)\n",
    "plt.show()"
   ]
  },
  {
   "cell_type": "code",
   "execution_count": null,
   "metadata": {},
   "outputs": [],
   "source": []
  }
 ],
 "metadata": {
  "kernelspec": {
   "display_name": "Python 3",
   "language": "python",
   "name": "python3"
  },
  "language_info": {
   "codemirror_mode": {
    "name": "ipython",
    "version": 3
   },
   "file_extension": ".py",
   "mimetype": "text/x-python",
   "name": "python",
   "nbconvert_exporter": "python",
   "pygments_lexer": "ipython3",
   "version": "3.6.4"
  }
 },
 "nbformat": 4,
 "nbformat_minor": 2
}
