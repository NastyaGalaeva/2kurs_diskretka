{
 "cells": [
  {
   "cell_type": "code",
   "execution_count": 4,
   "metadata": {},
   "outputs": [],
   "source": [
    "f=(2*x[i-1]*y[i-1]+1)/(20*y[i-1]*y[i-1]+4)"
   ]
  },
  {
   "cell_type": "code",
   "execution_count": 8,
   "metadata": {},
   "outputs": [
    {
     "name": "stdout",
     "output_type": "stream",
     "text": [
      " 0.0    0.00000  +2.5000e-01\n",
      " 0.1    0.02502  +2.5047e-01\n",
      " 0.2    0.05012  +2.5185e-01\n",
      " 0.3    0.07532  +2.5409e-01\n",
      " 0.4    0.10068  +2.5711e-01\n",
      " 0.5    0.12622  +2.6078e-01\n",
      " 0.6    0.15197  +2.6499e-01\n",
      " 0.7    0.17796  +2.6960e-01\n",
      " 0.8    0.20419  +2.7446e-01\n",
      " 0.9    0.23067  +2.7945e-01\n",
      " 1.0    0.25741  +2.8446e-01\n"
     ]
    }
   ],
   "source": [
    "import numpy as np\n",
    "from matplotlib import pyplot as plt\n",
    "\n",
    "x0 = 0\n",
    "xf = 1\n",
    "y0 = 0\n",
    "n = 10\n",
    "h=0.1\n",
    "\n",
    "x = [0] * (n + 1)\n",
    "y = [0] * (n + 1)\n",
    "x[0]=x0\n",
    "y[0] = y0\n",
    "for i in range (1,n+1):\n",
    "    x [i] = x[i-1]+h\n",
    "    y [i] = y[i-1] + h*f\n",
    "    y [i] = y[i-1] + h/2*f + h/2*(2*x[i]*y[i]+1)/(20*y[i]*y[i]+4)\n",
    "    \n",
    "for x, y in list(zip(x, y))[::1]:\n",
    "    print(\"%4.1f %10.5f %+12.4e\" % (x, y, (2*x*y+1)/(20*y*y+4)))"
   ]
  },
  {
   "cell_type": "code",
   "execution_count": 6,
   "metadata": {},
   "outputs": [
    {
     "data": {
      "image/png": "[encoded data removed]",
      "text/plain": [
       "<matplotlib.figure.Figure at 0x5708a264a8>"
      ]
     },
     "metadata": {},
     "output_type": "display_data"
    }
   ],
   "source": [
    "plt.plot( x , y , 'o' )\n",
    "plt.xlabel(\" Ось x \")\n",
    "plt.ylabel(\" Ось y \")\n",
    "plt.title(\" Метод Эйлера второго порядка \")\n",
    "plt.show( )"
   ]
  },
  {
   "cell_type": "code",
   "execution_count": null,
   "metadata": {},
   "outputs": [],
   "source": []
  }
 ],
 "metadata": {
  "kernelspec": {
   "display_name": "Python 3",
   "language": "python",
   "name": "python3"
  },
  "language_info": {
   "codemirror_mode": {
    "name": "ipython",
    "version": 3
   },
   "file_extension": ".py",
   "mimetype": "text/x-python",
   "name": "python",
   "nbconvert_exporter": "python",
   "pygments_lexer": "ipython3",
   "version": "3.6.4"
  }
 },
 "nbformat": 4,
 "nbformat_minor": 2
}
