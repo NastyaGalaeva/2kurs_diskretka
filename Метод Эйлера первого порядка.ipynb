{
 "cells": [
  {
   "cell_type": "code",
   "execution_count": 137,
   "metadata": {},
   "outputs": [],
   "source": [
    "f=(2*x[i-1]*y[i-1]+1)/(20*y[i-1]*y[i-1]+4)"
   ]
  },
  {
   "cell_type": "code",
   "execution_count": 145,
   "metadata": {},
   "outputs": [
    {
     "name": "stdout",
     "output_type": "stream",
     "text": [
      " 0.0    0.00000  +2.5000e-01\n",
      " 0.1    0.02502  +2.5047e-01\n",
      " 0.2    0.05012  +2.5185e-01\n",
      " 0.3    0.07541  +2.5409e-01\n",
      " 0.4    0.10097  +2.5709e-01\n",
      " 0.5    0.12685  +2.6073e-01\n",
      " 0.6    0.15313  +2.6488e-01\n",
      " 0.7    0.17984  +2.6938e-01\n",
      " 0.8    0.20701  +2.7408e-01\n",
      " 0.9    0.23466  +2.7883e-01\n",
      " 1.0    0.26278  +2.8351e-01\n"
     ]
    }
   ],
   "source": [
    "import numpy as np\n",
    "from matplotlib import pyplot as plt\n",
    "\n",
    "x0 = 0\n",
    "xf = 1\n",
    "y0 = 0\n",
    "n = 10\n",
    "h=0.1\n",
    "\n",
    "x = [0] * (n + 1)\n",
    "y = [0] * (n + 1)\n",
    "x[0]=x0\n",
    "y[0] = y0\n",
    "for i in range (1,n+1):\n",
    "    x [i] = x[i-1]+h\n",
    "    y [i] = h*f + y[i-1]\n",
    "    \n",
    "for x, y in list(zip(vx, vy))[::1]:\n",
    "    print(\"%4.1f %10.5f %+12.4e\" % (x, y, (2*x*y+1)/(20*y*y+4)))\n",
    "    "
   ]
  },
  {
   "cell_type": "code",
   "execution_count": 144,
   "metadata": {},
   "outputs": [
    {
     "data": {
      "image/png": "[encoded data removed]",
      "text/plain": [
       "<matplotlib.figure.Figure at 0xa254e03f28>"
      ]
     },
     "metadata": {},
     "output_type": "display_data"
    }
   ],
   "source": [
    "plt.plot( x , y , 'o' )\n",
    "plt.xlabel(\" Ось x \")\n",
    "plt.ylabel(\" Ось y \")\n",
    "plt.title(\" Метод Эйлера первого порядка \")\n",
    "plt.show( )"
   ]
  },
  {
   "cell_type": "code",
   "execution_count": 140,
   "metadata": {},
   "outputs": [],
   "source": [
    "\n"
   ]
  },
  {
   "cell_type": "code",
   "execution_count": null,
   "metadata": {},
   "outputs": [],
   "source": []
  },
  {
   "cell_type": "code",
   "execution_count": null,
   "metadata": {},
   "outputs": [],
   "source": []
  },
  {
   "cell_type": "code",
   "execution_count": null,
   "metadata": {},
   "outputs": [],
   "source": []
  }
 ],
 "metadata": {
  "kernelspec": {
   "display_name": "Python 3",
   "language": "python",
   "name": "python3"
  },
  "language_info": {
   "codemirror_mode": {
    "name": "ipython",
    "version": 3
   },
   "file_extension": ".py",
   "mimetype": "text/x-python",
   "name": "python",
   "nbconvert_exporter": "python",
   "pygments_lexer": "ipython3",
   "version": "3.6.4"
  }
 },
 "nbformat": 4,
 "nbformat_minor": 2
}
